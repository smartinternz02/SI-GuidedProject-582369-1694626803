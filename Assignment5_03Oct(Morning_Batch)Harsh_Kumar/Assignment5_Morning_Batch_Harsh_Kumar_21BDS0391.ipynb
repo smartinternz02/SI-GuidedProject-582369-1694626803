{
  "nbformat": 4,
  "nbformat_minor": 0,
  "metadata": {
    "colab": {
      "provenance": []
    },
    "kernelspec": {
      "name": "python3",
      "display_name": "Python 3"
    },
    "language_info": {
      "name": "python"
    }
  },
  "cells": [
    {
      "cell_type": "markdown",
      "source": [
        "# ASSIGNMENT 5\n",
        "\n",
        "Harsh Kumar\n",
        "\n",
        "21BDS0391\n",
        "\n",
        "harsh.kumar2021@vitstudent.ac.in\n"
      ],
      "metadata": {
        "id": "-_Mv9CRZxqln"
      }
    },
    {
      "cell_type": "markdown",
      "source": [
        "\n",
        "```\n",
        "Assignment 5:\n",
        "    Take all the columns in mall_customers.csv\n",
        "    gender age annual income spending score\n",
        "    perform label encoding on gender\n",
        "    train your data\n",
        "    \n",
        "```\n",
        "\n"
      ],
      "metadata": {
        "id": "JruIAIbnxurL"
      }
    },
    {
      "cell_type": "markdown",
      "source": [
        "# 1. import necessary libraries."
      ],
      "metadata": {
        "id": "xfRvgeNryXxm"
      }
    },
    {
      "cell_type": "code",
      "execution_count": 95,
      "metadata": {
        "id": "APG9PwShxkss"
      },
      "outputs": [],
      "source": [
        "import numpy as np\n",
        "import pandas as pd\n",
        "import seaborn as sns\n",
        "import matplotlib.pyplot as plt"
      ]
    },
    {
      "cell_type": "markdown",
      "source": [
        "# 2. import dataset."
      ],
      "metadata": {
        "id": "GR0e9T2Eyc2U"
      }
    },
    {
      "cell_type": "code",
      "source": [
        "df = pd.read_csv(\"Mall_Customers.csv\")\n",
        "df.head()"
      ],
      "metadata": {
        "colab": {
          "base_uri": "https://localhost:8080/",
          "height": 206
        },
        "id": "qolBJNYAyquq",
        "outputId": "d6b6d918-2741-4f8f-9750-2e4376f02d97"
      },
      "execution_count": 96,
      "outputs": [
        {
          "output_type": "execute_result",
          "data": {
            "text/plain": [
              "   CustomerID   Genre  Age  Annual Income (k$)  Spending Score (1-100)\n",
              "0           1    Male   19                  15                      39\n",
              "1           2    Male   21                  15                      81\n",
              "2           3  Female   20                  16                       6\n",
              "3           4  Female   23                  16                      77\n",
              "4           5  Female   31                  17                      40"
            ],
            "text/html": [
              "\n",
              "  <div id=\"df-1a54294d-4cce-4ca3-b82c-8cb46567e1ed\" class=\"colab-df-container\">\n",
              "    <div>\n",
              "<style scoped>\n",
              "    .dataframe tbody tr th:only-of-type {\n",
              "        vertical-align: middle;\n",
              "    }\n",
              "\n",
              "    .dataframe tbody tr th {\n",
              "        vertical-align: top;\n",
              "    }\n",
              "\n",
              "    .dataframe thead th {\n",
              "        text-align: right;\n",
              "    }\n",
              "</style>\n",
              "<table border=\"1\" class=\"dataframe\">\n",
              "  <thead>\n",
              "    <tr style=\"text-align: right;\">\n",
              "      <th></th>\n",
              "      <th>CustomerID</th>\n",
              "      <th>Genre</th>\n",
              "      <th>Age</th>\n",
              "      <th>Annual Income (k$)</th>\n",
              "      <th>Spending Score (1-100)</th>\n",
              "    </tr>\n",
              "  </thead>\n",
              "  <tbody>\n",
              "    <tr>\n",
              "      <th>0</th>\n",
              "      <td>1</td>\n",
              "      <td>Male</td>\n",
              "      <td>19</td>\n",
              "      <td>15</td>\n",
              "      <td>39</td>\n",
              "    </tr>\n",
              "    <tr>\n",
              "      <th>1</th>\n",
              "      <td>2</td>\n",
              "      <td>Male</td>\n",
              "      <td>21</td>\n",
              "      <td>15</td>\n",
              "      <td>81</td>\n",
              "    </tr>\n",
              "    <tr>\n",
              "      <th>2</th>\n",
              "      <td>3</td>\n",
              "      <td>Female</td>\n",
              "      <td>20</td>\n",
              "      <td>16</td>\n",
              "      <td>6</td>\n",
              "    </tr>\n",
              "    <tr>\n",
              "      <th>3</th>\n",
              "      <td>4</td>\n",
              "      <td>Female</td>\n",
              "      <td>23</td>\n",
              "      <td>16</td>\n",
              "      <td>77</td>\n",
              "    </tr>\n",
              "    <tr>\n",
              "      <th>4</th>\n",
              "      <td>5</td>\n",
              "      <td>Female</td>\n",
              "      <td>31</td>\n",
              "      <td>17</td>\n",
              "      <td>40</td>\n",
              "    </tr>\n",
              "  </tbody>\n",
              "</table>\n",
              "</div>\n",
              "    <div class=\"colab-df-buttons\">\n",
              "\n",
              "  <div class=\"colab-df-container\">\n",
              "    <button class=\"colab-df-convert\" onclick=\"convertToInteractive('df-1a54294d-4cce-4ca3-b82c-8cb46567e1ed')\"\n",
              "            title=\"Convert this dataframe to an interactive table.\"\n",
              "            style=\"display:none;\">\n",
              "\n",
              "  <svg xmlns=\"http://www.w3.org/2000/svg\" height=\"24px\" viewBox=\"0 -960 960 960\">\n",
              "    <path d=\"M120-120v-720h720v720H120Zm60-500h600v-160H180v160Zm220 220h160v-160H400v160Zm0 220h160v-160H400v160ZM180-400h160v-160H180v160Zm440 0h160v-160H620v160ZM180-180h160v-160H180v160Zm440 0h160v-160H620v160Z\"/>\n",
              "  </svg>\n",
              "    </button>\n",
              "\n",
              "  <style>\n",
              "    .colab-df-container {\n",
              "      display:flex;\n",
              "      gap: 12px;\n",
              "    }\n",
              "\n",
              "    .colab-df-convert {\n",
              "      background-color: #E8F0FE;\n",
              "      border: none;\n",
              "      border-radius: 50%;\n",
              "      cursor: pointer;\n",
              "      display: none;\n",
              "      fill: #1967D2;\n",
              "      height: 32px;\n",
              "      padding: 0 0 0 0;\n",
              "      width: 32px;\n",
              "    }\n",
              "\n",
              "    .colab-df-convert:hover {\n",
              "      background-color: #E2EBFA;\n",
              "      box-shadow: 0px 1px 2px rgba(60, 64, 67, 0.3), 0px 1px 3px 1px rgba(60, 64, 67, 0.15);\n",
              "      fill: #174EA6;\n",
              "    }\n",
              "\n",
              "    .colab-df-buttons div {\n",
              "      margin-bottom: 4px;\n",
              "    }\n",
              "\n",
              "    [theme=dark] .colab-df-convert {\n",
              "      background-color: #3B4455;\n",
              "      fill: #D2E3FC;\n",
              "    }\n",
              "\n",
              "    [theme=dark] .colab-df-convert:hover {\n",
              "      background-color: #434B5C;\n",
              "      box-shadow: 0px 1px 3px 1px rgba(0, 0, 0, 0.15);\n",
              "      filter: drop-shadow(0px 1px 2px rgba(0, 0, 0, 0.3));\n",
              "      fill: #FFFFFF;\n",
              "    }\n",
              "  </style>\n",
              "\n",
              "    <script>\n",
              "      const buttonEl =\n",
              "        document.querySelector('#df-1a54294d-4cce-4ca3-b82c-8cb46567e1ed button.colab-df-convert');\n",
              "      buttonEl.style.display =\n",
              "        google.colab.kernel.accessAllowed ? 'block' : 'none';\n",
              "\n",
              "      async function convertToInteractive(key) {\n",
              "        const element = document.querySelector('#df-1a54294d-4cce-4ca3-b82c-8cb46567e1ed');\n",
              "        const dataTable =\n",
              "          await google.colab.kernel.invokeFunction('convertToInteractive',\n",
              "                                                    [key], {});\n",
              "        if (!dataTable) return;\n",
              "\n",
              "        const docLinkHtml = 'Like what you see? Visit the ' +\n",
              "          '<a target=\"_blank\" href=https://colab.research.google.com/notebooks/data_table.ipynb>data table notebook</a>'\n",
              "          + ' to learn more about interactive tables.';\n",
              "        element.innerHTML = '';\n",
              "        dataTable['output_type'] = 'display_data';\n",
              "        await google.colab.output.renderOutput(dataTable, element);\n",
              "        const docLink = document.createElement('div');\n",
              "        docLink.innerHTML = docLinkHtml;\n",
              "        element.appendChild(docLink);\n",
              "      }\n",
              "    </script>\n",
              "  </div>\n",
              "\n",
              "\n",
              "<div id=\"df-a2e9948a-fc77-426c-bbd9-b7e150f97cb6\">\n",
              "  <button class=\"colab-df-quickchart\" onclick=\"quickchart('df-a2e9948a-fc77-426c-bbd9-b7e150f97cb6')\"\n",
              "            title=\"Suggest charts.\"\n",
              "            style=\"display:none;\">\n",
              "\n",
              "<svg xmlns=\"http://www.w3.org/2000/svg\" height=\"24px\"viewBox=\"0 0 24 24\"\n",
              "     width=\"24px\">\n",
              "    <g>\n",
              "        <path d=\"M19 3H5c-1.1 0-2 .9-2 2v14c0 1.1.9 2 2 2h14c1.1 0 2-.9 2-2V5c0-1.1-.9-2-2-2zM9 17H7v-7h2v7zm4 0h-2V7h2v10zm4 0h-2v-4h2v4z\"/>\n",
              "    </g>\n",
              "</svg>\n",
              "  </button>\n",
              "\n",
              "<style>\n",
              "  .colab-df-quickchart {\n",
              "      --bg-color: #E8F0FE;\n",
              "      --fill-color: #1967D2;\n",
              "      --hover-bg-color: #E2EBFA;\n",
              "      --hover-fill-color: #174EA6;\n",
              "      --disabled-fill-color: #AAA;\n",
              "      --disabled-bg-color: #DDD;\n",
              "  }\n",
              "\n",
              "  [theme=dark] .colab-df-quickchart {\n",
              "      --bg-color: #3B4455;\n",
              "      --fill-color: #D2E3FC;\n",
              "      --hover-bg-color: #434B5C;\n",
              "      --hover-fill-color: #FFFFFF;\n",
              "      --disabled-bg-color: #3B4455;\n",
              "      --disabled-fill-color: #666;\n",
              "  }\n",
              "\n",
              "  .colab-df-quickchart {\n",
              "    background-color: var(--bg-color);\n",
              "    border: none;\n",
              "    border-radius: 50%;\n",
              "    cursor: pointer;\n",
              "    display: none;\n",
              "    fill: var(--fill-color);\n",
              "    height: 32px;\n",
              "    padding: 0;\n",
              "    width: 32px;\n",
              "  }\n",
              "\n",
              "  .colab-df-quickchart:hover {\n",
              "    background-color: var(--hover-bg-color);\n",
              "    box-shadow: 0 1px 2px rgba(60, 64, 67, 0.3), 0 1px 3px 1px rgba(60, 64, 67, 0.15);\n",
              "    fill: var(--button-hover-fill-color);\n",
              "  }\n",
              "\n",
              "  .colab-df-quickchart-complete:disabled,\n",
              "  .colab-df-quickchart-complete:disabled:hover {\n",
              "    background-color: var(--disabled-bg-color);\n",
              "    fill: var(--disabled-fill-color);\n",
              "    box-shadow: none;\n",
              "  }\n",
              "\n",
              "  .colab-df-spinner {\n",
              "    border: 2px solid var(--fill-color);\n",
              "    border-color: transparent;\n",
              "    border-bottom-color: var(--fill-color);\n",
              "    animation:\n",
              "      spin 1s steps(1) infinite;\n",
              "  }\n",
              "\n",
              "  @keyframes spin {\n",
              "    0% {\n",
              "      border-color: transparent;\n",
              "      border-bottom-color: var(--fill-color);\n",
              "      border-left-color: var(--fill-color);\n",
              "    }\n",
              "    20% {\n",
              "      border-color: transparent;\n",
              "      border-left-color: var(--fill-color);\n",
              "      border-top-color: var(--fill-color);\n",
              "    }\n",
              "    30% {\n",
              "      border-color: transparent;\n",
              "      border-left-color: var(--fill-color);\n",
              "      border-top-color: var(--fill-color);\n",
              "      border-right-color: var(--fill-color);\n",
              "    }\n",
              "    40% {\n",
              "      border-color: transparent;\n",
              "      border-right-color: var(--fill-color);\n",
              "      border-top-color: var(--fill-color);\n",
              "    }\n",
              "    60% {\n",
              "      border-color: transparent;\n",
              "      border-right-color: var(--fill-color);\n",
              "    }\n",
              "    80% {\n",
              "      border-color: transparent;\n",
              "      border-right-color: var(--fill-color);\n",
              "      border-bottom-color: var(--fill-color);\n",
              "    }\n",
              "    90% {\n",
              "      border-color: transparent;\n",
              "      border-bottom-color: var(--fill-color);\n",
              "    }\n",
              "  }\n",
              "</style>\n",
              "\n",
              "  <script>\n",
              "    async function quickchart(key) {\n",
              "      const quickchartButtonEl =\n",
              "        document.querySelector('#' + key + ' button');\n",
              "      quickchartButtonEl.disabled = true;  // To prevent multiple clicks.\n",
              "      quickchartButtonEl.classList.add('colab-df-spinner');\n",
              "      try {\n",
              "        const charts = await google.colab.kernel.invokeFunction(\n",
              "            'suggestCharts', [key], {});\n",
              "      } catch (error) {\n",
              "        console.error('Error during call to suggestCharts:', error);\n",
              "      }\n",
              "      quickchartButtonEl.classList.remove('colab-df-spinner');\n",
              "      quickchartButtonEl.classList.add('colab-df-quickchart-complete');\n",
              "    }\n",
              "    (() => {\n",
              "      let quickchartButtonEl =\n",
              "        document.querySelector('#df-a2e9948a-fc77-426c-bbd9-b7e150f97cb6 button');\n",
              "      quickchartButtonEl.style.display =\n",
              "        google.colab.kernel.accessAllowed ? 'block' : 'none';\n",
              "    })();\n",
              "  </script>\n",
              "</div>\n",
              "    </div>\n",
              "  </div>\n"
            ]
          },
          "metadata": {},
          "execution_count": 96
        }
      ]
    },
    {
      "cell_type": "code",
      "source": [
        "df.info()"
      ],
      "metadata": {
        "colab": {
          "base_uri": "https://localhost:8080/"
        },
        "id": "ToemwLrCzIlw",
        "outputId": "2017d677-d9bf-4b93-d628-088edb796d0e"
      },
      "execution_count": 97,
      "outputs": [
        {
          "output_type": "stream",
          "name": "stdout",
          "text": [
            "<class 'pandas.core.frame.DataFrame'>\n",
            "RangeIndex: 200 entries, 0 to 199\n",
            "Data columns (total 5 columns):\n",
            " #   Column                  Non-Null Count  Dtype \n",
            "---  ------                  --------------  ----- \n",
            " 0   CustomerID              200 non-null    int64 \n",
            " 1   Genre                   200 non-null    object\n",
            " 2   Age                     200 non-null    int64 \n",
            " 3   Annual Income (k$)      200 non-null    int64 \n",
            " 4   Spending Score (1-100)  200 non-null    int64 \n",
            "dtypes: int64(4), object(1)\n",
            "memory usage: 7.9+ KB\n"
          ]
        }
      ]
    },
    {
      "cell_type": "markdown",
      "source": [
        "# 4. Label Encoding"
      ],
      "metadata": {
        "id": "HctCRdaWE0q9"
      }
    },
    {
      "cell_type": "code",
      "source": [
        "from sklearn.preprocessing import LabelEncoder\n",
        "le = LabelEncoder()"
      ],
      "metadata": {
        "id": "7CgrmSXDFimV"
      },
      "execution_count": 98,
      "outputs": []
    },
    {
      "cell_type": "code",
      "source": [
        "df[\"Genre\"] = le.fit_transform(df[\"Genre\"])"
      ],
      "metadata": {
        "id": "Tm9v7jerFjKY"
      },
      "execution_count": 99,
      "outputs": []
    },
    {
      "cell_type": "markdown",
      "source": [
        "# 3. Select the feature to cluster."
      ],
      "metadata": {
        "id": "rI9EHuqSyc7z"
      }
    },
    {
      "cell_type": "code",
      "source": [
        "# Selecting annual income and spending as features for clustering.\n",
        "\n",
        "X = df.iloc[:, 1:].values\n",
        "X"
      ],
      "metadata": {
        "colab": {
          "base_uri": "https://localhost:8080/"
        },
        "id": "-Xggrp8byrFx",
        "outputId": "35993855-f9e4-439a-a0f2-a40f50cea51e"
      },
      "execution_count": 100,
      "outputs": [
        {
          "output_type": "execute_result",
          "data": {
            "text/plain": [
              "array([[  1,  19,  15,  39],\n",
              "       [  1,  21,  15,  81],\n",
              "       [  0,  20,  16,   6],\n",
              "       [  0,  23,  16,  77],\n",
              "       [  0,  31,  17,  40],\n",
              "       [  0,  22,  17,  76],\n",
              "       [  0,  35,  18,   6],\n",
              "       [  0,  23,  18,  94],\n",
              "       [  1,  64,  19,   3],\n",
              "       [  0,  30,  19,  72],\n",
              "       [  1,  67,  19,  14],\n",
              "       [  0,  35,  19,  99],\n",
              "       [  0,  58,  20,  15],\n",
              "       [  0,  24,  20,  77],\n",
              "       [  1,  37,  20,  13],\n",
              "       [  1,  22,  20,  79],\n",
              "       [  0,  35,  21,  35],\n",
              "       [  1,  20,  21,  66],\n",
              "       [  1,  52,  23,  29],\n",
              "       [  0,  35,  23,  98],\n",
              "       [  1,  35,  24,  35],\n",
              "       [  1,  25,  24,  73],\n",
              "       [  0,  46,  25,   5],\n",
              "       [  1,  31,  25,  73],\n",
              "       [  0,  54,  28,  14],\n",
              "       [  1,  29,  28,  82],\n",
              "       [  0,  45,  28,  32],\n",
              "       [  1,  35,  28,  61],\n",
              "       [  0,  40,  29,  31],\n",
              "       [  0,  23,  29,  87],\n",
              "       [  1,  60,  30,   4],\n",
              "       [  0,  21,  30,  73],\n",
              "       [  1,  53,  33,   4],\n",
              "       [  1,  18,  33,  92],\n",
              "       [  0,  49,  33,  14],\n",
              "       [  0,  21,  33,  81],\n",
              "       [  0,  42,  34,  17],\n",
              "       [  0,  30,  34,  73],\n",
              "       [  0,  36,  37,  26],\n",
              "       [  0,  20,  37,  75],\n",
              "       [  0,  65,  38,  35],\n",
              "       [  1,  24,  38,  92],\n",
              "       [  1,  48,  39,  36],\n",
              "       [  0,  31,  39,  61],\n",
              "       [  0,  49,  39,  28],\n",
              "       [  0,  24,  39,  65],\n",
              "       [  0,  50,  40,  55],\n",
              "       [  0,  27,  40,  47],\n",
              "       [  0,  29,  40,  42],\n",
              "       [  0,  31,  40,  42],\n",
              "       [  0,  49,  42,  52],\n",
              "       [  1,  33,  42,  60],\n",
              "       [  0,  31,  43,  54],\n",
              "       [  1,  59,  43,  60],\n",
              "       [  0,  50,  43,  45],\n",
              "       [  1,  47,  43,  41],\n",
              "       [  0,  51,  44,  50],\n",
              "       [  1,  69,  44,  46],\n",
              "       [  0,  27,  46,  51],\n",
              "       [  1,  53,  46,  46],\n",
              "       [  1,  70,  46,  56],\n",
              "       [  1,  19,  46,  55],\n",
              "       [  0,  67,  47,  52],\n",
              "       [  0,  54,  47,  59],\n",
              "       [  1,  63,  48,  51],\n",
              "       [  1,  18,  48,  59],\n",
              "       [  0,  43,  48,  50],\n",
              "       [  0,  68,  48,  48],\n",
              "       [  1,  19,  48,  59],\n",
              "       [  0,  32,  48,  47],\n",
              "       [  1,  70,  49,  55],\n",
              "       [  0,  47,  49,  42],\n",
              "       [  0,  60,  50,  49],\n",
              "       [  0,  60,  50,  56],\n",
              "       [  1,  59,  54,  47],\n",
              "       [  1,  26,  54,  54],\n",
              "       [  0,  45,  54,  53],\n",
              "       [  1,  40,  54,  48],\n",
              "       [  0,  23,  54,  52],\n",
              "       [  0,  49,  54,  42],\n",
              "       [  1,  57,  54,  51],\n",
              "       [  1,  38,  54,  55],\n",
              "       [  1,  67,  54,  41],\n",
              "       [  0,  46,  54,  44],\n",
              "       [  0,  21,  54,  57],\n",
              "       [  1,  48,  54,  46],\n",
              "       [  0,  55,  57,  58],\n",
              "       [  0,  22,  57,  55],\n",
              "       [  0,  34,  58,  60],\n",
              "       [  0,  50,  58,  46],\n",
              "       [  0,  68,  59,  55],\n",
              "       [  1,  18,  59,  41],\n",
              "       [  1,  48,  60,  49],\n",
              "       [  0,  40,  60,  40],\n",
              "       [  0,  32,  60,  42],\n",
              "       [  1,  24,  60,  52],\n",
              "       [  0,  47,  60,  47],\n",
              "       [  0,  27,  60,  50],\n",
              "       [  1,  48,  61,  42],\n",
              "       [  1,  20,  61,  49],\n",
              "       [  0,  23,  62,  41],\n",
              "       [  0,  49,  62,  48],\n",
              "       [  1,  67,  62,  59],\n",
              "       [  1,  26,  62,  55],\n",
              "       [  1,  49,  62,  56],\n",
              "       [  0,  21,  62,  42],\n",
              "       [  0,  66,  63,  50],\n",
              "       [  1,  54,  63,  46],\n",
              "       [  1,  68,  63,  43],\n",
              "       [  1,  66,  63,  48],\n",
              "       [  1,  65,  63,  52],\n",
              "       [  0,  19,  63,  54],\n",
              "       [  0,  38,  64,  42],\n",
              "       [  1,  19,  64,  46],\n",
              "       [  0,  18,  65,  48],\n",
              "       [  0,  19,  65,  50],\n",
              "       [  0,  63,  65,  43],\n",
              "       [  0,  49,  65,  59],\n",
              "       [  0,  51,  67,  43],\n",
              "       [  0,  50,  67,  57],\n",
              "       [  1,  27,  67,  56],\n",
              "       [  0,  38,  67,  40],\n",
              "       [  0,  40,  69,  58],\n",
              "       [  1,  39,  69,  91],\n",
              "       [  0,  23,  70,  29],\n",
              "       [  0,  31,  70,  77],\n",
              "       [  1,  43,  71,  35],\n",
              "       [  1,  40,  71,  95],\n",
              "       [  1,  59,  71,  11],\n",
              "       [  1,  38,  71,  75],\n",
              "       [  1,  47,  71,   9],\n",
              "       [  1,  39,  71,  75],\n",
              "       [  0,  25,  72,  34],\n",
              "       [  0,  31,  72,  71],\n",
              "       [  1,  20,  73,   5],\n",
              "       [  0,  29,  73,  88],\n",
              "       [  0,  44,  73,   7],\n",
              "       [  1,  32,  73,  73],\n",
              "       [  1,  19,  74,  10],\n",
              "       [  0,  35,  74,  72],\n",
              "       [  0,  57,  75,   5],\n",
              "       [  1,  32,  75,  93],\n",
              "       [  0,  28,  76,  40],\n",
              "       [  0,  32,  76,  87],\n",
              "       [  1,  25,  77,  12],\n",
              "       [  1,  28,  77,  97],\n",
              "       [  1,  48,  77,  36],\n",
              "       [  0,  32,  77,  74],\n",
              "       [  0,  34,  78,  22],\n",
              "       [  1,  34,  78,  90],\n",
              "       [  1,  43,  78,  17],\n",
              "       [  1,  39,  78,  88],\n",
              "       [  0,  44,  78,  20],\n",
              "       [  0,  38,  78,  76],\n",
              "       [  0,  47,  78,  16],\n",
              "       [  0,  27,  78,  89],\n",
              "       [  1,  37,  78,   1],\n",
              "       [  0,  30,  78,  78],\n",
              "       [  1,  34,  78,   1],\n",
              "       [  0,  30,  78,  73],\n",
              "       [  0,  56,  79,  35],\n",
              "       [  0,  29,  79,  83],\n",
              "       [  1,  19,  81,   5],\n",
              "       [  0,  31,  81,  93],\n",
              "       [  1,  50,  85,  26],\n",
              "       [  0,  36,  85,  75],\n",
              "       [  1,  42,  86,  20],\n",
              "       [  0,  33,  86,  95],\n",
              "       [  0,  36,  87,  27],\n",
              "       [  1,  32,  87,  63],\n",
              "       [  1,  40,  87,  13],\n",
              "       [  1,  28,  87,  75],\n",
              "       [  1,  36,  87,  10],\n",
              "       [  1,  36,  87,  92],\n",
              "       [  0,  52,  88,  13],\n",
              "       [  0,  30,  88,  86],\n",
              "       [  1,  58,  88,  15],\n",
              "       [  1,  27,  88,  69],\n",
              "       [  1,  59,  93,  14],\n",
              "       [  1,  35,  93,  90],\n",
              "       [  0,  37,  97,  32],\n",
              "       [  0,  32,  97,  86],\n",
              "       [  1,  46,  98,  15],\n",
              "       [  0,  29,  98,  88],\n",
              "       [  0,  41,  99,  39],\n",
              "       [  1,  30,  99,  97],\n",
              "       [  0,  54, 101,  24],\n",
              "       [  1,  28, 101,  68],\n",
              "       [  0,  41, 103,  17],\n",
              "       [  0,  36, 103,  85],\n",
              "       [  0,  34, 103,  23],\n",
              "       [  0,  32, 103,  69],\n",
              "       [  1,  33, 113,   8],\n",
              "       [  0,  38, 113,  91],\n",
              "       [  0,  47, 120,  16],\n",
              "       [  0,  35, 120,  79],\n",
              "       [  0,  45, 126,  28],\n",
              "       [  1,  32, 126,  74],\n",
              "       [  1,  32, 137,  18],\n",
              "       [  1,  30, 137,  83]])"
            ]
          },
          "metadata": {},
          "execution_count": 100
        }
      ]
    },
    {
      "cell_type": "code",
      "source": [
        "type(X)"
      ],
      "metadata": {
        "colab": {
          "base_uri": "https://localhost:8080/"
        },
        "id": "m5eCpVBA0hQe",
        "outputId": "c12587ab-76ec-42d4-c3d2-df75d7dbfc2c"
      },
      "execution_count": 101,
      "outputs": [
        {
          "output_type": "execute_result",
          "data": {
            "text/plain": [
              "numpy.ndarray"
            ]
          },
          "metadata": {},
          "execution_count": 101
        }
      ]
    },
    {
      "cell_type": "markdown",
      "source": [
        "# 5. Find the optimal number of clusters -- elbow method."
      ],
      "metadata": {
        "id": "4qrgR4PGyc9y"
      }
    },
    {
      "cell_type": "code",
      "source": [
        "from sklearn.cluster import KMeans\n",
        "\n",
        "# Trying different values of k and calculating WCSS for each value of k\n",
        "wcss = []\n",
        "for k in range(1,16):\n",
        "  kmeans = KMeans(n_clusters = k, init=\"k-means++\", random_state=0)\n",
        "  kmeans.fit(X)\n",
        "  wcss.append(kmeans.inertia_) #savind wcss value in a list"
      ],
      "metadata": {
        "colab": {
          "base_uri": "https://localhost:8080/"
        },
        "id": "-edHB71lysPE",
        "outputId": "2b5b0abf-458c-41b8-b954-299c17b1552c"
      },
      "execution_count": 102,
      "outputs": [
        {
          "output_type": "stream",
          "name": "stderr",
          "text": [
            "/usr/local/lib/python3.10/dist-packages/sklearn/cluster/_kmeans.py:870: FutureWarning: The default value of `n_init` will change from 10 to 'auto' in 1.4. Set the value of `n_init` explicitly to suppress the warning\n",
            "  warnings.warn(\n",
            "/usr/local/lib/python3.10/dist-packages/sklearn/cluster/_kmeans.py:870: FutureWarning: The default value of `n_init` will change from 10 to 'auto' in 1.4. Set the value of `n_init` explicitly to suppress the warning\n",
            "  warnings.warn(\n",
            "/usr/local/lib/python3.10/dist-packages/sklearn/cluster/_kmeans.py:870: FutureWarning: The default value of `n_init` will change from 10 to 'auto' in 1.4. Set the value of `n_init` explicitly to suppress the warning\n",
            "  warnings.warn(\n",
            "/usr/local/lib/python3.10/dist-packages/sklearn/cluster/_kmeans.py:870: FutureWarning: The default value of `n_init` will change from 10 to 'auto' in 1.4. Set the value of `n_init` explicitly to suppress the warning\n",
            "  warnings.warn(\n",
            "/usr/local/lib/python3.10/dist-packages/sklearn/cluster/_kmeans.py:870: FutureWarning: The default value of `n_init` will change from 10 to 'auto' in 1.4. Set the value of `n_init` explicitly to suppress the warning\n",
            "  warnings.warn(\n",
            "/usr/local/lib/python3.10/dist-packages/sklearn/cluster/_kmeans.py:870: FutureWarning: The default value of `n_init` will change from 10 to 'auto' in 1.4. Set the value of `n_init` explicitly to suppress the warning\n",
            "  warnings.warn(\n",
            "/usr/local/lib/python3.10/dist-packages/sklearn/cluster/_kmeans.py:870: FutureWarning: The default value of `n_init` will change from 10 to 'auto' in 1.4. Set the value of `n_init` explicitly to suppress the warning\n",
            "  warnings.warn(\n",
            "/usr/local/lib/python3.10/dist-packages/sklearn/cluster/_kmeans.py:870: FutureWarning: The default value of `n_init` will change from 10 to 'auto' in 1.4. Set the value of `n_init` explicitly to suppress the warning\n",
            "  warnings.warn(\n",
            "/usr/local/lib/python3.10/dist-packages/sklearn/cluster/_kmeans.py:870: FutureWarning: The default value of `n_init` will change from 10 to 'auto' in 1.4. Set the value of `n_init` explicitly to suppress the warning\n",
            "  warnings.warn(\n",
            "/usr/local/lib/python3.10/dist-packages/sklearn/cluster/_kmeans.py:870: FutureWarning: The default value of `n_init` will change from 10 to 'auto' in 1.4. Set the value of `n_init` explicitly to suppress the warning\n",
            "  warnings.warn(\n",
            "/usr/local/lib/python3.10/dist-packages/sklearn/cluster/_kmeans.py:870: FutureWarning: The default value of `n_init` will change from 10 to 'auto' in 1.4. Set the value of `n_init` explicitly to suppress the warning\n",
            "  warnings.warn(\n",
            "/usr/local/lib/python3.10/dist-packages/sklearn/cluster/_kmeans.py:870: FutureWarning: The default value of `n_init` will change from 10 to 'auto' in 1.4. Set the value of `n_init` explicitly to suppress the warning\n",
            "  warnings.warn(\n",
            "/usr/local/lib/python3.10/dist-packages/sklearn/cluster/_kmeans.py:870: FutureWarning: The default value of `n_init` will change from 10 to 'auto' in 1.4. Set the value of `n_init` explicitly to suppress the warning\n",
            "  warnings.warn(\n",
            "/usr/local/lib/python3.10/dist-packages/sklearn/cluster/_kmeans.py:870: FutureWarning: The default value of `n_init` will change from 10 to 'auto' in 1.4. Set the value of `n_init` explicitly to suppress the warning\n",
            "  warnings.warn(\n",
            "/usr/local/lib/python3.10/dist-packages/sklearn/cluster/_kmeans.py:870: FutureWarning: The default value of `n_init` will change from 10 to 'auto' in 1.4. Set the value of `n_init` explicitly to suppress the warning\n",
            "  warnings.warn(\n"
          ]
        }
      ]
    },
    {
      "cell_type": "code",
      "source": [
        "wcss"
      ],
      "metadata": {
        "colab": {
          "base_uri": "https://localhost:8080/"
        },
        "id": "reuz4HzoysRw",
        "outputId": "277bfb4a-4c65-495e-ea8a-5c169d8d8ee9"
      },
      "execution_count": 103,
      "outputs": [
        {
          "output_type": "execute_result",
          "data": {
            "text/plain": [
              "[308862.06000000006,\n",
              " 212889.44245524303,\n",
              " 143391.59236035676,\n",
              " 104414.67534220168,\n",
              " 75399.61541401484,\n",
              " 58348.641363315044,\n",
              " 51132.703212576904,\n",
              " 44392.11566567935,\n",
              " 41000.8742213207,\n",
              " 37649.69225429742,\n",
              " 34665.087277598795,\n",
              " 31659.187454375693,\n",
              " 29388.61288883975,\n",
              " 28170.631036266237,\n",
              " 26470.47953378321]"
            ]
          },
          "metadata": {},
          "execution_count": 103
        }
      ]
    },
    {
      "cell_type": "code",
      "source": [
        "# PLOTTING ELBOW METHOD GRAPH\n",
        "\n",
        "plt.figure(figsize = (8,6))\n",
        "plt.plot(range(1,16), wcss, \"o--\", color=\"red\")\n",
        "plt.title(\"Elbow method for finding optimal K\")\n",
        "plt.xlabel(\"Number of clusters K\")\n",
        "plt.ylabel(\"WCSS\")\n",
        "plt.grid()\n",
        "plt.show()"
      ],
      "metadata": {
        "colab": {
          "base_uri": "https://localhost:8080/",
          "height": 564
        },
        "id": "LvgJJ-uHysUT",
        "outputId": "2b9de081-f0b3-411c-be7f-6d46ad5fb45f"
      },
      "execution_count": 104,
      "outputs": [
        {
          "output_type": "display_data",
          "data": {
            "text/plain": [
              "<Figure size 800x600 with 1 Axes>"
            ],
            "image/png": "[encoded data removed]"
          },
          "metadata": {}
        }
      ]
    },
    {
      "cell_type": "code",
      "source": [
        "# Taking K=6 instead of becausa WCSS value is low"
      ],
      "metadata": {
        "id": "XTLqAY5YysWq"
      },
      "execution_count": 105,
      "outputs": []
    },
    {
      "cell_type": "markdown",
      "source": [
        "# 6. Train the model on dataset using optimal cluster value k=6."
      ],
      "metadata": {
        "id": "wyKwbsI6yc_4"
      }
    },
    {
      "cell_type": "code",
      "source": [
        "kmeans = KMeans(n_clusters = 6, init=\"k-means++\", random_state=0) #\"k-means++\" means initializing the random clusters\n",
        "#return a label for data based on their cluster.\n",
        "Y_kmeans = kmeans.fit_predict(X)"
      ],
      "metadata": {
        "colab": {
          "base_uri": "https://localhost:8080/"
        },
        "id": "Dj2acNaXys_m",
        "outputId": "4857f3dc-b1f0-4026-ca15-76beb70a5654"
      },
      "execution_count": 106,
      "outputs": [
        {
          "output_type": "stream",
          "name": "stderr",
          "text": [
            "/usr/local/lib/python3.10/dist-packages/sklearn/cluster/_kmeans.py:870: FutureWarning: The default value of `n_init` will change from 10 to 'auto' in 1.4. Set the value of `n_init` explicitly to suppress the warning\n",
            "  warnings.warn(\n"
          ]
        }
      ]
    },
    {
      "cell_type": "code",
      "source": [
        "Y_kmeans"
      ],
      "metadata": {
        "colab": {
          "base_uri": "https://localhost:8080/"
        },
        "id": "vMESRRbVytCV",
        "outputId": "02199adc-1e1e-4cdc-d464-23c0ff10af63"
      },
      "execution_count": 107,
      "outputs": [
        {
          "output_type": "execute_result",
          "data": {
            "text/plain": [
              "array([5, 4, 5, 4, 5, 4, 5, 4, 5, 4, 5, 4, 5, 4, 5, 4, 5, 4, 5, 4, 5, 4,\n",
              "       5, 4, 5, 4, 5, 4, 5, 4, 5, 4, 5, 4, 5, 4, 5, 4, 5, 4, 1, 4, 1, 0,\n",
              "       5, 4, 1, 0, 0, 0, 1, 0, 0, 1, 1, 1, 1, 1, 0, 1, 1, 0, 1, 1, 1, 0,\n",
              "       1, 1, 0, 0, 1, 1, 1, 1, 1, 0, 1, 0, 0, 1, 1, 0, 1, 1, 0, 1, 1, 0,\n",
              "       0, 1, 1, 0, 1, 0, 0, 0, 1, 0, 1, 0, 0, 1, 1, 0, 1, 0, 1, 1, 1, 1,\n",
              "       1, 0, 0, 0, 0, 0, 1, 1, 1, 1, 0, 0, 0, 3, 0, 3, 2, 3, 2, 3, 2, 3,\n",
              "       0, 3, 2, 3, 2, 3, 2, 3, 2, 3, 0, 3, 2, 3, 2, 3, 2, 3, 2, 3, 2, 3,\n",
              "       2, 3, 2, 3, 2, 3, 2, 3, 2, 3, 2, 3, 2, 3, 2, 3, 2, 3, 2, 3, 2, 3,\n",
              "       2, 3, 2, 3, 2, 3, 2, 3, 2, 3, 2, 3, 2, 3, 2, 3, 2, 3, 2, 3, 2, 3,\n",
              "       2, 3], dtype=int32)"
            ]
          },
          "metadata": {},
          "execution_count": 107
        }
      ]
    },
    {
      "cell_type": "code",
      "source": [
        "# Age that belongs to cluster 0\n",
        "X[Y_kmeans == 0,1]"
      ],
      "metadata": {
        "colab": {
          "base_uri": "https://localhost:8080/"
        },
        "id": "9hb6xlGmytEu",
        "outputId": "73e9368d-24ad-4e22-dd47-d4cd932809f3"
      },
      "execution_count": 108,
      "outputs": [
        {
          "output_type": "execute_result",
          "data": {
            "text/plain": [
              "array([31, 27, 29, 31, 33, 31, 27, 19, 18, 19, 32, 26, 40, 23, 38, 21, 22,\n",
              "       34, 18, 40, 32, 24, 27, 20, 23, 26, 21, 19, 38, 19, 18, 19, 27, 38,\n",
              "       40, 23, 25, 28])"
            ]
          },
          "metadata": {},
          "execution_count": 108
        }
      ]
    },
    {
      "cell_type": "code",
      "source": [
        "# Age that belongs to cluster 1\n",
        "X[Y_kmeans == 1,1]"
      ],
      "metadata": {
        "colab": {
          "base_uri": "https://localhost:8080/"
        },
        "id": "Guxwa2c5GSY0",
        "outputId": "0b5344ce-4584-4b3d-863f-15f8a2d9a4b4"
      },
      "execution_count": 109,
      "outputs": [
        {
          "output_type": "execute_result",
          "data": {
            "text/plain": [
              "array([65, 48, 50, 49, 59, 50, 47, 51, 69, 53, 70, 67, 54, 63, 43, 68, 70,\n",
              "       47, 60, 60, 59, 45, 49, 57, 67, 46, 48, 55, 50, 68, 48, 47, 48, 49,\n",
              "       67, 49, 66, 54, 68, 66, 65, 63, 49, 51, 50])"
            ]
          },
          "metadata": {},
          "execution_count": 109
        }
      ]
    },
    {
      "cell_type": "code",
      "source": [
        "# Age that belongs to cluster 2\n",
        "X[Y_kmeans == 2,1]"
      ],
      "metadata": {
        "colab": {
          "base_uri": "https://localhost:8080/"
        },
        "id": "cBP2ToF1GUWi",
        "outputId": "312bd315-e3ed-4ec8-dbdb-35e44f73011f"
      },
      "execution_count": 110,
      "outputs": [
        {
          "output_type": "execute_result",
          "data": {
            "text/plain": [
              "array([43, 59, 47, 20, 44, 19, 57, 25, 48, 34, 43, 44, 47, 37, 34, 56, 19,\n",
              "       50, 42, 36, 40, 36, 52, 58, 59, 37, 46, 41, 54, 41, 34, 33, 47, 45,\n",
              "       32])"
            ]
          },
          "metadata": {},
          "execution_count": 110
        }
      ]
    },
    {
      "cell_type": "code",
      "source": [
        "# Data points that belong to cluster 0\n",
        "X[Y_kmeans == 0]"
      ],
      "metadata": {
        "colab": {
          "base_uri": "https://localhost:8080/"
        },
        "id": "3QdRN0T-7LjX",
        "outputId": "f30be7a0-1d70-4443-9ba7-10bb49bd5171"
      },
      "execution_count": 111,
      "outputs": [
        {
          "output_type": "execute_result",
          "data": {
            "text/plain": [
              "array([[ 0, 31, 39, 61],\n",
              "       [ 0, 27, 40, 47],\n",
              "       [ 0, 29, 40, 42],\n",
              "       [ 0, 31, 40, 42],\n",
              "       [ 1, 33, 42, 60],\n",
              "       [ 0, 31, 43, 54],\n",
              "       [ 0, 27, 46, 51],\n",
              "       [ 1, 19, 46, 55],\n",
              "       [ 1, 18, 48, 59],\n",
              "       [ 1, 19, 48, 59],\n",
              "       [ 0, 32, 48, 47],\n",
              "       [ 1, 26, 54, 54],\n",
              "       [ 1, 40, 54, 48],\n",
              "       [ 0, 23, 54, 52],\n",
              "       [ 1, 38, 54, 55],\n",
              "       [ 0, 21, 54, 57],\n",
              "       [ 0, 22, 57, 55],\n",
              "       [ 0, 34, 58, 60],\n",
              "       [ 1, 18, 59, 41],\n",
              "       [ 0, 40, 60, 40],\n",
              "       [ 0, 32, 60, 42],\n",
              "       [ 1, 24, 60, 52],\n",
              "       [ 0, 27, 60, 50],\n",
              "       [ 1, 20, 61, 49],\n",
              "       [ 0, 23, 62, 41],\n",
              "       [ 1, 26, 62, 55],\n",
              "       [ 0, 21, 62, 42],\n",
              "       [ 0, 19, 63, 54],\n",
              "       [ 0, 38, 64, 42],\n",
              "       [ 1, 19, 64, 46],\n",
              "       [ 0, 18, 65, 48],\n",
              "       [ 0, 19, 65, 50],\n",
              "       [ 1, 27, 67, 56],\n",
              "       [ 0, 38, 67, 40],\n",
              "       [ 0, 40, 69, 58],\n",
              "       [ 0, 23, 70, 29],\n",
              "       [ 0, 25, 72, 34],\n",
              "       [ 0, 28, 76, 40]])"
            ]
          },
          "metadata": {},
          "execution_count": 111
        }
      ]
    }
  ]
}